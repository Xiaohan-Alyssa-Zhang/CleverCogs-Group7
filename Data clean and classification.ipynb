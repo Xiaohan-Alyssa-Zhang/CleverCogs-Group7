{
 "cells": [
  {
   "cell_type": "code",
   "execution_count": 70,
   "id": "connected-trailer",
   "metadata": {},
   "outputs": [],
   "source": [
    "import pandas as pd\n",
    "import numpy as np\n",
    "import seaborn as sns\n",
    "import matplotlib.pyplot as plt\n",
    "from matplotlib import cm\n",
    "from matplotlib.collections import LineCollection"
   ]
  },
  {
   "cell_type": "code",
   "execution_count": 71,
   "id": "northern-nicaragua",
   "metadata": {},
   "outputs": [],
   "source": [
    "ccdate= pd.read_csv(\"CCDate2018-2021.csv\")\n",
    "user= pd.read_csv(\"Users2021.csv\")\n",
    "medical= pd.read_csv(\"CustomerMedicalConditions04Nov21.csv\")"
   ]
  },
  {
   "cell_type": "markdown",
   "id": "standing-planning",
   "metadata": {},
   "source": [
    "### Data cleaning"
   ]
  },
  {
   "cell_type": "markdown",
   "id": "impressed-capture",
   "metadata": {},
   "source": [
    "null data"
   ]
  },
  {
   "cell_type": "code",
   "execution_count": 72,
   "id": "unavailable-belle",
   "metadata": {},
   "outputs": [],
   "source": [
    "#Delete 'null' in the 'ExternalID' column of the ccdate and user tables.\n",
    "ccdate = ccdate.dropna(subset=['ExternalID'])\n",
    "user = user.dropna(subset=['ExternalID'])"
   ]
  },
  {
   "cell_type": "markdown",
   "id": "still-restriction",
   "metadata": {},
   "source": [
    "data type"
   ]
  },
  {
   "cell_type": "code",
   "execution_count": 73,
   "id": "driving-domestic",
   "metadata": {},
   "outputs": [],
   "source": [
    "#Convert ‘object’ to ‘datetime64’\n",
    "ccdate['Time'] = pd.to_datetime(ccdate['Time'])"
   ]
  },
  {
   "cell_type": "markdown",
   "id": "egyptian-winter",
   "metadata": {},
   "source": [
    "negative data"
   ]
  },
  {
   "cell_type": "code",
   "execution_count": 74,
   "id": "dirty-resort",
   "metadata": {},
   "outputs": [],
   "source": [
    "medical = medical[medical['Age'] > 0]"
   ]
  },
  {
   "cell_type": "markdown",
   "id": "hydraulic-relationship",
   "metadata": {},
   "source": [
    "data value"
   ]
  },
  {
   "cell_type": "code",
   "execution_count": 75,
   "id": "empirical-grace",
   "metadata": {},
   "outputs": [],
   "source": [
    "#Uniform formatting (raw data with one space between 'Link Title' and two spaces between 'Link Type')\n",
    "ccdate.rename(columns={'Link Title':'LinkTitle'},inplace = True)\n",
    "ccdate.rename(columns={'Link  Type':'LinkType'},inplace = True)\n",
    "medical.rename(columns={'External ID ':'ExternalID'},inplace = True)"
   ]
  },
  {
   "cell_type": "code",
   "execution_count": 76,
   "id": "headed-soundtrack",
   "metadata": {},
   "outputs": [
    {
     "name": "stderr",
     "output_type": "stream",
     "text": [
      "<ipython-input-76-2a40ef433b89>:7: SettingWithCopyWarning: \n",
      "A value is trying to be set on a copy of a slice from a DataFrame\n",
      "\n",
      "See the caveats in the documentation: https://pandas.pydata.org/pandas-docs/stable/user_guide/indexing.html#returning-a-view-versus-a-copy\n",
      "  user['Gender'][i] = sex_map[user['Gender'][i]]\n"
     ]
    }
   ],
   "source": [
    "#Unify the 'Gender' format in the 'user' and 'medical' tables\n",
    "sex_map = {'Female': 'F',\n",
    "           'Male': 'M',\n",
    "           'Unspecified':'U'}\n",
    "for i in user['Gender'].keys():\n",
    "    if user['Gender'][i] in sex_map:\n",
    "        user['Gender'][i] = sex_map[user['Gender'][i]]"
   ]
  },
  {
   "cell_type": "markdown",
   "id": "comfortable-polls",
   "metadata": {},
   "source": [
    "### classification"
   ]
  },
  {
   "cell_type": "code",
   "execution_count": 77,
   "id": "useful-penetration",
   "metadata": {},
   "outputs": [],
   "source": [
    "#Add a column called 'Type' for the category of 'LinkTitle'\n",
    "ccdate['Type'] = ccdate['LinkType']"
   ]
  },
  {
   "cell_type": "markdown",
   "id": "creative-weapon",
   "metadata": {},
   "source": [
    "category"
   ]
  },
  {
   "cell_type": "code",
   "execution_count": 78,
   "id": "large-camel",
   "metadata": {},
   "outputs": [],
   "source": [
    "#Entertainment: all kinds of entertainment.\n",
    "ccdate.loc[ccdate['LinkTitle'].isin(['Entertainment']),'Type'] = 'Entertainment'\n",
    "#Health&Care: all activities with 'Health' or 'Care'.\n",
    "ccdate.loc[ccdate['LinkTitle'].isin(['My Care Team','My Care','Care Websites','Health & Wellbeing','Health Information','Health & Wellbeing ','NHS Inform', 'Your GP','Nhs Inform','Your Gp','NHS Near Me','My Care Summary','Care V Logs - Euan Kerr',\n",
    "                                     'Health Monitoring']),'Type'] = 'Health&Care'\n",
    "#Transportation: both public transportation and private cars.\n",
    "ccdate.loc[ccdate['LinkTitle'].isin(['Transport','Remote Control Cars']),'Type'] = 'Transportation'\n",
    "#Help: all unsolved activities, including questions, support, etc.\n",
    "ccdate.loc[ccdate['LinkTitle'].isin(['Ask For','Ask For Meals','E-expert','Ask for Meals ','e-Expert']),'Type'] = 'Help'\n",
    "#Game：all kinds of games, including online games, puzzle games, board games, two-player games, etc.\n",
    "ccdate.loc[ccdate['LinkTitle'].isin(['Tablet Games','Play Games','Single Player Games','Multiplayer Games', 'IQPC Games','Test Cards',\n",
    "                                     'Iqpc Games']),'Type'] = 'Game'\n",
    "#Video: including movies, video sites and individual videos.\n",
    "ccdate.loc[ccdate['LinkTitle'].isin(['Video','Online Tv','Digital Skills Tv','Space 1999','Videos']),'Type'] = 'Video'\n",
    "#Social Network: all kinds of social platforms.\n",
    "ccdate.loc[ccdate['LinkTitle'].isin(['Communication','Using Social Media']),'Type'] = 'Social Network'\n",
    "#Interest: personal interests.\n",
    "ccdate.loc[ccdate['LinkTitle'].isin(['My Interests','My Learning','My Music']),'Type'] = 'Interest'\n",
    "#Location: including address, city and building.\n",
    "ccdate.loc[ccdate['LinkTitle'].isin(['My Neighbourhood','Radio Stations']),'Type'] = 'Location'\n",
    "#Shopping: all kinds of shopping platform and shopping brand.\n",
    "ccdate.loc[ccdate['LinkTitle'].isin(['Shopping','Supermarkets','Online Retailers']),'Type'] = 'Shopping'\n",
    "#Covid-19: all information related to the coronavirus.\n",
    "ccdate.loc[ccdate['LinkTitle'].isin(['Covid-19 Information','Covid-19 Dundee', 'COVID-19 Dundee', 'COVID-19 Aberdeen',\n",
    "                                     'Covid-19 Aberdeen','COVID-19 Information']),'Type'] = 'Covid-19'\n",
    "#Local Information: local information with city name.\n",
    "ccdate.loc[ccdate['LinkTitle'].isin(['Local Information - Dundee','Local Information - Glasgow','Local Information - Stirling','Local Information - Aberdeen','Local Information - Edinburgh',\n",
    "                                     'Local Information - Midlothian']),'Type'] = 'Local Information'\n",
    "#Sports: including all types of sports and teams.\n",
    "ccdate.loc[ccdate['LinkTitle'].isin(['Sport','Football','Fitness','SPORT']),'Type'] = 'Sports'\n",
    "#Home：including electrical appliances and household items.\n",
    "ccdate.loc[ccdate['LinkTitle'].isin(['My Home', 'Home Automation', 'Kitchen', 'Living Room', 'Toilet', 'Bathroom', 'HOME AUTOMATION', \n",
    "                                     'Home Manuals', 'Sink', 'Power','Control My Room']),'Type'] = 'Home'\n",
    "#Reading: all kinds of books.\n",
    "ccdate.loc[ccdate['LinkTitle'].isin(['Ebooks','Sci-Fi']),'Type'] = 'Reading'\n",
    "#Information: nouns and activities with 'information'.\n",
    "ccdate.loc[ccdate['LinkTitle'].isin(['Tenant Information','Travel Information', 'SMILE Project Information',\n",
    "                                     'Smile Project Information','Information']),'Type'] = 'Information'\n",
    "#Art: all activities related to art.\n",
    "ccdate.loc[ccdate['LinkTitle'].isin(['Art']),'Type'] = 'Art'\n",
    "#Photo: all activities with 'photo'.\n",
    "ccdate.loc[ccdate['LinkTitle'].isin(['Photo Albums']),'Type'] = 'Photo'\n",
    "#Diet: including food type, restaurant, brand and takeaway platform.\n",
    "ccdate.loc[ccdate['LinkTitle'].isin(['Takeaways','Hot Drinks']),'Type'] = 'Diet'\n",
    "#Skill: all kinds of skills.\n",
    "ccdate.loc[ccdate['LinkTitle'].isin(['Digital Skills','Cooking','Gardening','Digital Skills ','Digital Skills TV']),'Type'] = 'Skill'\n",
    "#Money: money matter.\n",
    "ccdate.loc[ccdate['LinkTitle'].isin(['Money Matters']),'Type'] = 'Money'\n",
    "#Repair: all activities with 'repair'.\n",
    "ccdate.loc[ccdate['LinkTitle'].isin(['External Or Garden Repairs','Repairs','External or Garden Repairs']),'Type'] = 'Repair'\n",
    "#News: all kinds of news.\n",
    "ccdate.loc[ccdate['LinkTitle'].isin(['News','Weather']),'Type'] = 'News'\n",
    "#Blackwood: all activities with 'Blackwood'.\n",
    "ccdate.loc[ccdate['LinkTitle'].isin(['Blackwood','Clevercogs','Rent','Welcome Pack']),'Type'] = 'Blackwood'\n",
    "\n",
    "#TV: including TV shows, TV series, etc.\n",
    "ccdate.loc[ccdate['LinkTitle'].isin(['Online TV']),'Type'] = 'TV'\n",
    "#CleverCogs: all activities with 'CleverCogs'.\n",
    "ccdate.loc[ccdate['LinkTitle'].isin(['CleverCogs']),'Type'] = 'CleverCogs'\n",
    "#Document: including instructions and conditions.\n",
    "ccdate.loc[ccdate['LinkTitle'].isin(['Terms and Conditions','Terms And Conditions']),'Type'] = 'Document'\n",
    "#Music: including playlist, single, album, etc.\n",
    "ccdate.loc[ccdate['LinkTitle'].isin(['Testing Internal', 'test for sound']),'Type'] = 'Document'"
   ]
  },
  {
   "cell_type": "markdown",
   "id": "diagnostic-korean",
   "metadata": {},
   "source": [
    "internet"
   ]
  },
  {
   "cell_type": "code",
   "execution_count": 79,
   "id": "thirty-barrier",
   "metadata": {},
   "outputs": [],
   "source": [
    "#Google: all activities with 'Google'\n",
    "ccdate.loc[ccdate['LinkTitle'].isin(['Google','Google Translate','Google Earth - Italy','Google Photos', 'Google Home Commands', \n",
    "                                     'Google Terms & Conditions','Word Processing - Google Docs','Google Earth',\n",
    "                                     'Google Maps']),'Type'] = 'Google'"
   ]
  },
  {
   "cell_type": "code",
   "execution_count": 80,
   "id": "nearby-enhancement",
   "metadata": {},
   "outputs": [],
   "source": [
    "#Game：all kinds of games, including online games, puzzle games, board games, two-player games, etc.\n",
    "ccdate.loc[ccdate['LinkTitle'].isin(['Gard Matching Games', 'Jigsaw Puzzle Games', 'Choose Your Cardgame!', \n",
    "                                     'Chess', 'Brain Games', 'Jenga - Game' , 'Guess That Song!','Domino', \n",
    "                                     'Bubble Shooter (Iqpc)', 'Football Games', 'Hidden Object Games', 'Car Games', \n",
    "                                     'Puzzles & Games', 'Word Search Games', 'Still Game', 'Typing Game', \n",
    "                                     'Mini Clip Games', 'Bridge Cardgame', 'Snooker Games', 'Mini Games', 'Solitaire', 'Card Matching Games', 'Scrabble',\n",
    "                                     'Thinking/Puzzle Games', 'Sudoku', 'Quizzes','Pet Rescue', 'Candy Crush Saga',\n",
    "                                     'The Generation Game', 'Hidden Object Games 3', 'Big Fish Games', \n",
    "                                     'Hidden Object Games 2', 'Frozen Games', 'Candy Crush Game', 'Disney Games', \n",
    "                                     'Thinking/Puzzle Games’, ‘Sudoku', 'Quizzes’, ‘Solitaire’, ‘Scrabble', \n",
    "                                     'Bubble Shooter (Tablet)', 'Guess The Band Quiz', 'Farm Heroes Super Saga', \n",
    "                                     'Bingo World', 'Rummy', 'Mahjong', 'Tetris', 'Ed Edd N Eddy', 'Game Informer', \n",
    "                                     'Diamond Digger','Bubbleshooter For Michael D.', 'Bubble Witch Saga', \n",
    "                                     'Candy Crush Saga’, ‘Pet Rescue', 'Candy Crush Soda', 'Whist', 'Boomerang Uk', \n",
    "                                     'Freecell', 'Mecca Bingo Glasgow Rutherglen','Rock, Paper, Scissors', \n",
    "                                     'Doll Houses', 'Farm House Heros', 'Memory Challenge', 'Alphabetty', \n",
    "                                     'Spider Solitaire', 'Guardian Crosswords', 'Colouring Pages - Difficult Level', \n",
    "                                     'World Snooker', 'Global Glitch', 'General Knowledge Quizzes', \n",
    "                                     'Word Search Tablets']),'Type'] = 'Game'"
   ]
  },
  {
   "cell_type": "code",
   "execution_count": 81,
   "id": "provincial-scholar",
   "metadata": {},
   "outputs": [],
   "source": [
    "#Health&Care：all activities with 'Health' or 'Care'.\n",
    "ccdate.loc[ccdate['LinkTitle'].isin(['My Care Team - East Glasgow', 'My Care Team - Aberdeen Services', 'Aberdeen Health & Social Care', 'Care Survey', 'Care Notes', 'My Care Team Glasgow - Belses Gardens Ch', 'My Care Team Edinburgh West', 'Care Service Inspection Report', 'Care Inspectorate Guide', 'My 24/7 Service Care Team', 'Grant Care Summary', 'My Care Team Dundee - Charleston', 'My Care Team Dundee - Douglas & Broughty Ferry', 'My Care Team - Glasgow West', 'Care Inspectorate Guide Easy Read', 'My Care Team Aberdeen - Eday Gardens', 'My Care Team Edinburgh South', 'My Care Team Dundee - Menzieshill', 'My Care Team Edinburgh East', 'Care Information , Scotland', 'My Care Team Edinburgh Morrison Cresent', 'Our Care Inspectorate Grades', 'My Care Team Dundee - Gregory Patterson', 'What Can You Expect From Your Care Worker?', 'Amir Care Summary','Care Information Scotland', 'Baker Street Doctor Practice, Shawlands', 'The National Care Standards', 'Matthew Care Summary', 'Ian C Care Summary', 'Heather Care Summary', 'Amir Care Summary', 'Nhs Inform - Bsl Translation Videos', 'Nhs Fitness Videos', 'Healthy Eating (Nhs)', 'Quick Link To Nhs 24', 'Nhs Inform - Shielding', 'Nhs Grampian | Orthepedics', 'Nhs Attend Anywhere Test', 'Nhs Greater Glasgow', 'Ipf', 'Asksara Independent Living', 'Ashton Medical Practice Cardonald', 'Westburn Medical Group', 'Downfield Medical Practice', 'Elmbank Medical Practice', 'Dr Datta, Fisken, Mcgill & Whitehead Practice', 'Sanitary Ware', 'Denburn Medical Practice', 'Racecourse Road Medical Group', 'Glasgow Services Team 2', 'Viewfield Medical Practice', 'Green Practice Govan Health Centre', 'Semple Finney (Gp Practice)', 'Princes Street Surgery', 'Old Machar Medical Practice', 'Barclay Medical Practice East Craigs', 'Thurston Road Medical Practice', 'Lincluden Surgery', 'Baker Street Doctor Practice', 'Healthy Food Swaps', 'Acupuncture', 'Disability Rights Within The Uk Government', 'Disability Rights Uk', \n",
    "                                     'Bloodpressure', 'Pdsa Hawkhill', 'Eri Map']),'Type'] = 'Health&Care'\n",
    "#Transportation: both public transportation and private cars.\n",
    "ccdate.loc[ccdate['LinkTitle'].isin(['Lothian Buses Journey Planner', 'Lothian Live Bus Times', 'First Bus', 'Buchanan Bus Station', 'Glasgow-Dundee-Aberdeen Bus Timetable', 'First Buses Aberdeen', 'Stagecoach Bus', 'First Buses Glasgow', 'Xplore Buses Dundee', 'On The Buses', 'Southside Radio Cars', 'Rc Car Action', 'Car Badges', 'Scotrail', 'Rc Driver', 'The Rover Sd1 Club', 'Glasgow Taxis', 'Steam Trains Uk', 'Southside Taxis', 'Classic Cars', 'Z Cars', 'Aeroplanes', \n",
    "                                     'Uk & Ireland Heritage Rail']),'Type'] = 'Transportation'\n",
    "#Help: all unsolved activities, including questions, support, etc.\n",
    "ccdate.loc[ccdate['LinkTitle'].isin(['Ways To Pay Your Rent', 'Living Made Easy', 'Shielding Support - Contact Numbers',  'How To Stay Safe', 'Keys To Life', 'Staying At Home','Qr Setup', 'Slimming World', 'What If You Get Ill?', 'How A Bus Is Made', \n",
    "                                     'How To Use Zoom', 'How A Tanker Is Made.']),'Type'] = 'Help'\n",
    "#Entertainment: all kinds of entertainment.\n",
    "ccdate.loc[ccdate['LinkTitle'].isin(['Theatre Royal Glasgow', 'Dundee Rep Theatre', 'Whitehall Theatre Dundee', 'Timeless Theatre', 'Edinburgh Playhouse', 'The Knitting & Stitching Show',  'Glasgow Live', 'Odeon Cinema Dundee', 'Cineworld Aberdeen', 'Cineworld Edinburgh',  'Cineworld Glasgow Renfrew Street', 'Vue Cinema Aberdeen', 'Vue Cinema- Edinburgh Omni', 'Cineworld Dundee', 'Cliff Richard Karaoke', 'Virtual Piano', 'Drum Kit', 'Blackpool Illuminations', 'Mcmanus Galleries Dundee', \n",
    "                                     'Knitting & Stitch Show']),'Type'] = 'Entertainment'\n",
    "#Video: including movies, video sites and individual videos.\n",
    "ccdate.loc[ccdate['LinkTitle'].isin(['Youtube', 'Hearts | Youtube', 'Youtube - James Bond Channel', 'Youtube Live', 'Celtic Fc Youtube Channel', 'Using Youtube', 'Elvis Presley Youtube Channel', 'Olly Murs Youtube Channel', 'Knitting Videos', 'Cooking Videos - Food Network', 'Video - How To Use Your Calendar', 'New Content Request Video Message','Pessalit Instruction Videos', 'Griggio | Videos', 'Band Saw Videos', 'Amazon Prime Video', 'Helenvale Launch Video', 'Keys To Life Video', 'Relaxation Videos', 'Christmas Movies', 'Movie Clips', 'Action Movies', 'Gangster Classics (Movies)', 'Detective Movies', 'Horror Movies', 'War Movies', 'Comedy Western Movies', 'Woody', 'Romantic Comedies', 'Fair Processing Notice', 'Strictly Come Dancing', 'Good Neighbour Pledge',  'Errol Flynn - Santa Fe Trail', 'South Pacific', 'Grease', 'Fishers Tours', 'The Courier', 'Crosswords', 'Adele', 'The Sweet', 'Channel 4 Catch Up - All 4', 'Hangman','Neighbours', 'Inside The International Space Station', 'Great Classic Country And Western', 'Netflix', 'Please Sir!', 'Grateful Dead', 'Simon & Garfunkel', 'Steps Official You Tube', 'Bonanza: Under Attack', 'Peaky Blinders', 'Military And War Documentaries',  'Coronation Street',  'Laurel And Hardy',  'West Side Story', 'Bonanza: The Return', 'Only Fools And Horses', 'Germanpod', 'Polishpod', 'Batman And Robin Clips', 'The Lone Ranger', 'Deadly Pursuits', 'M.A.S.H', 'Real Crime Documentaries', 'The Police You Tube Channel', 'Frasier', 'Truck Driving Vlog', 'Shrek', 'Boss Baby', 'Mr. Robot Scene', 'Blue Hawaii', 'The Greatest Showman',  'Legally Blonde', 'Northern Soul', 'Rocky Clips','Dailymotion', 'Imdb', 'Trolls', 'Bonanza: The Next Generation',  'Lassie Come Home', \n",
    "                                     'The Karen Carpenter Story']),'Type'] = 'Video'\n",
    "#Social Network: all kinds of social platforms.\n",
    "ccdate.loc[ccdate['LinkTitle'].isin(['Beautiful Edinburgh- Facebook', 'Facebook', 'Facebook Scottish Association Of Guide Dog Owners', 'Broom Court Newsletter - May 2016', 'Midstocket Parish Church - Newsletter (August)', 'Broom Court Newsletter', 'Midstocket Parish Church - Newsletter (April)', 'Midstocket Parish Church - Newsletter (July)','Skype', 'Zoom', 'Find My Past', \n",
    "                                     'Instagram','Twitter']),'Type'] = 'Social Network'\n",
    "#Location: including address, city and building.\n",
    "ccdate.loc[ccdate['LinkTitle'].isin(['Iceland', 'Western Hotel Ayr', 'Open University', 'Shelter Scotland', 'Midstocket Parish Church | Official Website', 'Cornerstone',  'Carmyle, Kenmuir, Mount Vernon, Church Of Scotland', 'Shielding', 'Dundee City Council', 'Inchagarth',  'Aberdeen Exhibition Conference Centre', 'Wadkin | Official Website', 'Glasgow Science Centre', 'Aberdeen Central Library', 'Camperdown Wildlife Centre Dundee', 'Caird Hall', 'Dundee Central Library', 'Overgate Shopping Centre Dundee', 'Wellgate Shopping Centre', 'Tower Farm Riding Stable', 'Graceland', 'Shawlands', 'Glasgow Cylde College - Woodworking', 'Glasgow Clyde College- Cardonald Campus', 'Dundee And Angus College', 'St. John The Baptist', 'Glasgow Botanic Gardens', 'The Sse Hydro', 'Holyrood Evangelical Church', 'Orangutan Island', 'Dundee Box Office', 'Boat Launches', 'Falkirk Wheel', 'Tron Church Glasgow', 'Rhs', 'Saws Uk','Bank Of Scotland', \n",
    "                                     'Scottish Poetry Library',]),'Type'] = 'Location'\n",
    "#Shopping: all kinds of shopping platform and shopping brand.\n",
    "ccdate.loc[ccdate['LinkTitle'].isin(['Morrisons', 'Sainsburys', 'Tesco', 'Asda', 'Topshop', 'Waitrose', 'Amazon', 'Amazon Uk', 'B&M', 'Wiltshire Farm Foods', 'Asda Volunteer Shopping Card', 'Alexa','The Bill','Qvc', 'Hearts Shop', 'Dark Skies Jewellery', \n",
    "                                     'Argos', 'Ebay', 'Marks And Spencer']),'Type'] = 'Shopping'\n",
    "#Covid-19: all information related to the coronavirus.\n",
    "ccdate.loc[ccdate['LinkTitle'].isin(['Covid-19 Info - Dundee Local Links',  'Covid-19 Info - Aberdeen Local Links', 'Ppe', 'Coronavirus - Community Health Team Dundee', 'Nhs Inform - Coronavirus', \n",
    "                                     'Ready Scotland - Coronavirus','Social Distancing']),'Type'] = 'Covid-19'"
   ]
  },
  {
   "cell_type": "code",
   "execution_count": 82,
   "id": "dense-tribe",
   "metadata": {},
   "outputs": [],
   "source": [
    "#Local Information: local information with city name.\n",
    "ccdate.loc[ccdate['LinkTitle'].isin(['Aberdeen Churches Services', 'Near Me', 'Dundee | Local Website', 'Leisure And Culture (Dundee)','Edinburgh Fringe Festival', 'Guide Dogs - Glasgow Mobility Team', 'Auld Dundee', 'Gumtree', 'Narrative Of A Voyage To Senegal',\n",
    "                                     'Gutenberg - Crime', 'Whats On - Glasgow']),'Type'] = 'Local Information'\n",
    "#Sports: including all types of sports and teams.\n",
    "ccdate.loc[ccdate['LinkTitle'].isin(['Scottish Football', 'Bbc Football', 'Sky Football', 'Blackpool Football Club', 'Uefa Champions League', 'Dundee Football Club', 'Kilmarnock Football Club', 'Ms Society - Exercise', 'Dundee United Football Club', 'Mtvernon Bowling Club', 'Rangers Football Club', 'Sport Aberdeen', 'Model Sport', 'Aberdeen Sports Village', 'Sky Sports - Racing', 'Bt Sport', 'Mini Golf', 'Cycling Edinburgh', 'Darts', 'Yoga | Online', '15 Minute Exercise', 'Nottingham Forest F.C.', 'Aberdeen Fc', 'Stirling Albion Fc','Ballet Dancing', 'Spandeau Ballet', 'Celtic Fc', 'Rangers Fc', 'Snooker', 'Red Tv | Aberdeen Fc', 'Bowling Masters', 'Manchester United - Official Site', 'Formula 1', 'Joe Wicks | The Body Coach', 'Sky Sports', 'Scottish Powerlifting', 'British Powerlifting', 'Aberdeen Fc', 'Partick Thistle', 'World Bowls Tour', 'Ufc - Ultimate Fighting Championship', 'Kaizer Cheifs Fc', 'Dundee Dance Studios', 'Racing Post', 'Boccia', 'Rangers Uk Supporters Club', 'Bowls Scotland', 'Liam Doyle', 'Hearts Fc',  'Hibernian Fc', 'Fishing', 'Olympics', 'Dundee Fc', 'Totenham Hotspur', 'Official Arsenal Website', 'Show Jumping', 'Pdc', 'Scottish Fa', 'World Cup 2018 Groups', 'Ayr United', 'Figure Skating', 'Boccia Uk',\n",
    "                                     'Falkirk Football','Scottish Football Association']),'Type'] = 'Sports'\n",
    "#Home：including electrical appliances and household items.\n",
    "ccdate.loc[ccdate['LinkTitle'].isin(['Get Active @ Home', 'My Condition My Life',  'Latch Hook Kits', 'Redicut', 'Homescreen - Fusion Tablet', 'Your Tablet - Turning It On/Off And Charging', 'Using Your Keyboard And Search', 'Logic Combi Esp1 Boiler Instructions',  'My Housing Team - West Region', 'Integrated Washer Dryer', 'Tenancy Agreement', 'Z-Wave Network', 'Domotica Devices', 'Built Under Integrated Freezer', 'Integrated Washing Machine', 'Lamona Induction Hob', 'Startrite Bandsaws', 'Woodworking Machinery', 'Living It Up Website',\n",
    "                                     'Wifi Password', 'Manage My Tenancy']),'Type'] = 'Home'\n",
    "#Reading: all kinds of books.\n",
    "ccdate.loc[ccdate['LinkTitle'].isin(['Tarot Card Information And Readings', 'Free Tarot Readings', 'Agatha Christie Audiobooks', 'Address Book', 'Audio Books', 'Many Books', 'Startrite Saw | Handbooks', 'The X Factor Songbook', 'Audio Books 2', 'Cs Lewis Audiobooks', 'Open Door Magazine', 'Project Gutenberg', 'A Guide To The Safe Storage Of Medication', 'Being On Your Own', 'Home Automation Guide', 'Aberdeen Memories Gazette', 'Tv Choice Magazine', 'Sky At Night Magazine', 'Your Dog Magazine', 'Your Cat Magazine', 'Novel Free Read Online', 'Librivox', 'Bookrix', 'Universal Declaration Of Human Rights', 'Agatha Christie', 'In The Heart Of Africa', 'Robinson Crusoe', 'Truth For Life', 'Holy Bible',\n",
    "                                     'Concerning Christian Liberty']),'Type'] = 'Reading'\n",
    "#Information: nouns and activities with 'information'.\n",
    "ccdate.loc[ccdate['LinkTitle'].isin(['Smile Project Information Video', 'Gardening Information', 'Pompeii - Information','Compliments, Suggestions & Complaints', 'Avoiding Scams', 'Word Search',  'Important Telephone Numbers', 'More Woodworking Machinery', 'Bespoken', 'World Clock','2001/3/2', 'Accessible Housing Survey', 'Customer Engagement', 'Lettable Standards', 'Dinosaur Types', 'King Of Scots', 'Magic',  'Hz', 'World clock','Robert The Bruce Trust', 'Astronomy', '2001/3/2', 'The British Monarchy', 'Kos Earthquake', 'Wikipedia', 'Horoscopes', 'Dinosaurs', 'A-Z Of Birds', 'Genetics', 'Princess Diana',  'Ancestry', 'Metallica', 'Life In Laramie', 'Ultrasonic', 'Nasa', 'Space And Astronomny',\n",
    "                                     'Smile Project Information Sheet',]),'Type'] = 'Information'\n",
    "#Art: all activities related to art.\n",
    "ccdate.loc[ccdate['LinkTitle'].isin(['Art Uk', 'Arts And Crafts', 'Kelvingrove Art Gallery And Museum', 'Card Making And Paper Craft', 'Craft Scotland', 'Dundee Contemporary Arts', 'Sketchpad','Vectary', 'Knitting Patterns', \n",
    "                                     'Art Maker', 'Youidraw Painter']),'Type'] = 'Art'\n",
    "#Photo: all activities with 'photo'.\n",
    "ccdate.loc[ccdate['LinkTitle'].isin(['Old Dundee - Photos', 'Old Dundee - Photos 2', \n",
    "                                     'Photography']),'Type'] = 'Photo'\n",
    "#Diet: including food type, restaurant, brand and takeaway platform.\n",
    "ccdate.loc[ccdate['LinkTitle'].isin(['Just Eat', 'Meatloaf', 'Meat Loaf', 'Deliveroo', 'Delicious', 'Currys', 'Uber Eats', 'Starbucks Coffee Menu','Three Stars',\n",
    "                                     'Costa Coffee','Popeye','Bread']),'Type'] = 'Diet'\n",
    "#Skill: all kinds of skills.\n",
    "ccdate.loc[ccdate['LinkTitle'].isin(['Learn My Way: Computer Skills', 'Tayside: New Digital Skills Intern', 'Knitting Ideas', 'Vectary Tutorials', 'Crochet', 'Sewing', 'Cake Baking', 'Omniglot', 'Duolingo',\n",
    "                                     'Bella Coco - Crochet Tutorials']),'Type'] = 'Skill'\n",
    "#News: all kinds of news.\n",
    "ccdate.loc[ccdate['LinkTitle'].isin(['Bbc Earth', 'Bbc Nature', 'Bbc News', 'Bbc Bitesize', 'Bbc Iplayer', 'Bbc Radio Scotland', 'Bbc Formula 1', 'Bbc Tennis', 'Bbc Golf', 'Bbc Radio 4 Extra', 'Bbc2 Logos - 1964 To 2016', 'Bbc1 Christmas Jingles 1967 To 2015', 'Bbc Sport', 'Bbc Rugby', 'Bbc Boxing', 'Bbc History: Tudors', 'Bbc Sport - Swimming', 'Bbc Scotlands Robert The Bruce Story', 'Bbc Iplayer - Nature', 'Bbc News - South Africa', 'Bbc Good Food', 'Bbc Scottish History', 'Bbc Radio 5', 'Eggheads Bbc Website', 'Bbc Food - Recipes', 'World Cup- Bbc Sport', 'Bbc History - Ancient Egypt', 'Bbc Radio 1', 'Empire Movie News', 'Edinburgh News', 'Edinburgh Evening News', 'Ok- Celebrity News', 'Rc News', 'The Mirror - Soaps News', 'The Huffingtonpost - Soaps News', 'Stv News', 'Cnn', 'West Fm', 'Glasgow Evening Times', 'Scottish Sun', 'Daily Record', 'The Independent', 'Wall Street Journal', 'The Times', 'Evening Telegraph', 'Smile Leaflet November', 'Merry Christmas!', 'Agm 2016 - The Social Connection', 'Huffington Post',\n",
    "                                     'Sky News', 'The Guardian News']),'Type'] = 'News'"
   ]
  },
  {
   "cell_type": "code",
   "execution_count": 83,
   "id": "competitive-theater",
   "metadata": {},
   "outputs": [],
   "source": [
    "#Weather: all activities with 'weather'.\n",
    "ccdate.loc[ccdate['LinkTitle'].isin(['Bbc Scotland Weather Forecast', 'Stv Weather Edinburgh', \n",
    "                                     'Weather Network Edinburgh']),'Type'] = 'Weather'\n",
    "#Blackwood: all activities with 'Blackwood'.\n",
    "ccdate.loc[ccdate['LinkTitle'].isin(['About Blackwood', 'Blackwood Tenant Handbook', 'Videos From Blackwood', 'About Blackwood Homes & Care', 'Welcome To Blackwood', 'Blackwood Covid-19 Letter', 'How To Connect To Blackwood Wifi', 'Michael Blackwood Care Summary', \n",
    "                                     'Blackwood Bespoken']),'Type'] = 'Blackwood'\n",
    "#Music: including playlist, single, album, etc.\n",
    "ccdate.loc[ccdate['LinkTitle'].isin(['The Beatles', 'Madonna Music Channel', 'Disco Playlist', 'Now Thats What I Call Music', 'Ballet Music', '80S Music Playlist', 'Soul Music - 80S', 'Summer Holiday- The Musical', 'Disney Films Video Music Playlist', '24/7 Sleep And Relaxation Music', 'Songs From 50S/60S Musicals', 'Big Band Music', 'Country Music', 'Scottish Traditional Music', 'Songs From Musicals', 'Classic Movie Musicals Playlist', 'Country Music Radio Stations', 'Cats (Musical)', 'Christmas Music 2', 'Christmas Music', 'Traditional Music Of Ireland', 'Bespoken - Drake Music', 'Sound Of Music Soundtrack', 'High School Musical Songs', 'Sounds Of Scotland - Bagpipe Music', 'Mixed Big Band Music', 'Ballroom Music', 'Irish Music', 'Christmas Music 3', 'The Sound Of Music - Movie Clips', 'Youtube Music', '70S Music Playlist', 'Contemporary Dance Music', 'Jesus Christ Superstar (Musical)', 'Billy Elliot (Musical)', 'Spotify', 'Bruce Lee (Playlist)', 'Love Song Playlist', 'Elo Playlist', 'Southern Soul Playlist', 'Northern Soul Playlist', 'Elton John Playlist', 'Johnny Cash Playlist', 'James Blunt Playlist', 'Good Mood Playlist', 'Thriller Movie Playlist', 'Ttf Playlist', 'Marillion Playlist', 'Dr Hook Playlist', 'Opera Playlist', 'Showtune (Movies) Playlist', 'George Benson Playlist', 'James Bond Film Playlist', 'Christmas Playlist', 'Blues Playlist', 'Top Of The Pops 1980S', 'Elvis | Movie Songs', 'Disney Songs', 'Poldark Sound Track', 'Dr Dolittle Songs', 'Heart Of Midlothian Song', 'Kerrang', '80S Hits', 'British Tv Theme Tunes', 'Old Tv Theme Tunes', 'Power Ballads', 'Christmas - Darlene Love', 'Bryan Adams - (Everything I Do) I Do It For You', 'Jeannie C Riley - Harper Valley P.T.A', 'Golden Oldies | 50S & 60S', 'Tv Sitcom Theme Tunes',  'Jeannie C. Riley - Harper Valley Pta', 'The Corries', 'Now 92', '90S Smash Hits', 'Live Osprey Camera - Loch Of Lowes', 'Live Osprey Camera - Loch Arkaig', 'Foster And Allen', 'Yourclassical', 'Amy Winehouse- Valerie', 'Ministry Of Sound', 'Heard It Through The Grapevine', 'Mozart Clarinet Concerto', 'La La Land Soundtrack', 'Simply Red- Holding On', 'Cliff Richard And The Piano Guys', 'Irish Showband Legends',  'Zz Top', 'Billy Joel - Piano Man', 'Lady Gaga - Look What I Found (A Star Is Born)', 'Elton John - Candle In The Wind', '80S & 90S | Easy Listening',  'Lewis Capaldi - Someone You Loved', 'Cliff Richard: Through The Years',  'Jive Bunny & The Mastermixers', 'Glen Campbell - Rhinestone Cowboy', 'Happy Hardcore', 'Willy Neilson - Seven Spanish Angels', '100 Greatest Motown Hits', 'Phantom Of The Opera Soundtrack', 'Raindrops Keep Falling On My Head', 'My Girl - The Temptations', 'Cliff Richard- This Time Now', 'Everybody Hurts- R.E.M', 'Top Of The Pops 1970S', 'Cliff Richards - Sing Under The Christmas Tree', '90S And 2000S Hits', 'You Are The Reason', 'Cliff Richard Summer Holdiay', 'Beethoven -  Ode To Joy', 'Odeon Cinema - Glasgow Quay', 'Elvis - Love Me Tender', 'Cher Live- The Farewell Tour', 'Queen - Love Of My Life', 'Odeon Cinema - Braehead', 'Dolly Parton- Jolene', 'Full House- Madness', 'Marillion- Misplaced Childhood', 'David Gates- Make It With You', 'Despacito- Justin Bieber', 'Sing - Gary Barlow & The Commonwealth Band', 'Elvis- Hound Dog',  'Greatest Classical Anthems', 'Soundcloud', 'How Much Is That Doggie In The Window', 'Have You Ever Been Lonely', 'Billy Connolly Best Bits', 'Steps For Stress - Jim White', 'Mandy- Barry Manilow', 'Frozen Soundtrack', 'Guess The Tunes Quiz',  'Long Haired Lover From Liverpool', 'Jon Bon Jovi', 'Tron Church Archive- James Philip', 'Queen Hits', 'Abba Gold', 'The X Factor 2015', 'Hymns', 'Barbra Streisand Hits',  'Clubland Classics', 'Hillbilly Rock', 'Reggae Classics', 'Motown Greatest Hits', 'Go West Greatest Hits', 'Go West (2)', 'Steptoe And Son', 'Shakin Stevens Christmas', 'Sweet Caroline', 'The Beach Boys- An American Band', 'Welcome To My World', 'Hallelujah Chorus', 'Walking In The Air', 'Go West Top Tracks', 'Test 1 2 3', 'Prime Test', 'Test','Practice Your Driving Theory Test', 'History Of Test Cards', 'Test Messages', 'Test Card Vol. 2', 'Bbc 2 Test Card', 'Itv Test Card', 'Test Card Story', 'Bbc1 Test Card',\n",
    "                                     'Hot Chocolate Playlist', 'Mod Playlist']),'Type'] = 'Music'\n",
    "#CleverCogs: all activities with 'CleverCogs'.\n",
    "ccdate.loc[ccdate['LinkTitle'].isin(['Clevercogs - New Features', 'Using Your Clevercogs Calendar', \n",
    "                                     'Clevercogs End User License Agreement']),'Type'] = 'CleverCogs'      \n",
    "#Learn: all activities with 'Learn About Me'.\n",
    "ccdate.loc[ccdate['LinkTitle'].isin(['Learn About Me - 6', 'Learn About Me - 5', 'Learn About Me - 4', 'Introduction', 'Learn About Me - 7', 'Learn About Me - 3', \n",
    "                                     'Learn About Me - 2', 'Learn About Me - 1']),'Type'] = 'Learn'\n",
    "#Radio: all kinds of radio.\n",
    "ccdate.loc[ccdate['LinkTitle'].isin(['Rnib Connect Radio', 'Heart Radio (Tablet)', 'Heart Radio', 'Talksport Radio', 'Jazz Radio', 'Agatha Christie Radio Plays', 'Test For Sound','Testing Internal','Test Cards','Radio 4 Extra', 'Heat Radio', 'Radio Tay (Live)', 'Online Radio Box', 'Absolute Radio 80S', 'Absolute Radio 70S', 'Kerrang Radio', 'Tay Fm',  'Classic Fm Website', 'Euro Hits Vol. 1', 'Original 106', 'Euro Hits 2018', 'The Archers', 'Wave 102 (Live)',\n",
    "                                     'Magic Fm', 'Capital Fm']),'Type'] = 'Radio'\n",
    "#Family&Friend: way to contact and communicate with family and friends.\n",
    "ccdate.loc[ccdate['LinkTitle'].isin(['Family & Friends - Read/Reply Messages', 'Family & Friends', 'Family & Friends - Sending A Video Message', 'Family & Friends - Sending A Text Message', 'Answering A Video Call',\n",
    "                                     'Family & Friends - Video Calling']),'Type'] = 'Family&Friend'\n",
    "#Musician: names of musicians.\n",
    "ccdate.loc[ccdate['LinkTitle'].isin(['The New Seekers', 'John Lennon', 'The Alexander Brothers', 'Dominic Kirwan', 'Cascada', 'Bob Marley', 'Mary Duff',  'Westlife', 'George Michael', 'The Shadows', 'David Bowie',  'Gene Pitney', 'Hector Nicol', 'The Searchers', 'Manfred Mann', 'Deacon Blue', 'Amy Winehouse', 'The Mamas & The Papas', 'Dean Martin', 'Michael Buble', 'Maroon 5', 'Nazareth',  'Elvis Official Website', 'Shania Twain', 'Rod Stewart', 'T. Rex', 'Sam Smith', 'Ray Charles', 'Tina Turner', 'Fats Domino', 'Dave Dee, Dozy, Beaky, Mick & Tich', 'Toby Keith', 'Tom Jones', 'Dave Clark Five',  'Jim Reeves', 'Barry Manilow', 'Van Morrison', 'Michael Ball', 'Glenn Miller', 'Fleetwood Mac', 'Roy Orbison', 'Cliff Richards World Tour Concert', 'Credence Clearwater Revival', 'The Ventures',  'Emmerdale', 'Dr Kg Hardie & Partners Practice', 'Eric Clapton',  'Madness', 'Gloria Estefan', 'The Rolling Stones', 'Moana', 'Annie Lennox', 'Frank Sinatra', 'Summa Saws', 'Paul Mccartney', 'Sammy Davis Jr', 'Everly Brothers', '10Cc', 'Placido Domingo Website', 'Michael Ball & Alfie Boe', 'Diana Ross',  'Cypress Hill', 'Eminem', 'Leon Jackson', 'Bring Me The Horizon', 'Guy Mitchell', 'Bryan Ferry', 'James Last', 'Carole King', 'Boyzone', 'Klondike Solitaire', 'Stevie Nicks', 'Dire Sraits','Kenny Rogers', 'Abba', 'Don Williams', 'Queen',  'Chas And Dave', 'Sydney Devine', 'The Carpenters', 'The Proclaimers', 'Big Country', 'Cher', 'Louisa Johnson', 'Suzi Quatro', 'Slade', 'Billy J Kramer', 'Lulu', 'Paper Lace', 'David Essex', 'Europe [The Band]',  'Bay City Rollers', 'Tom Walker', 'Anne Marie', 'Status Quo', 'Chris Rea', 'Marmalade', 'Michael Bolton', 'Bonnie Tyler', 'Patsy Cline', 'Kay Starr', 'Take That', 'Emerson, Lake And Palmer', 'John Denver', 'Boney M', 'M People', 'Michael Jackson', 'Engelbert Humperdinck', 'Michael Holliay', 'Judy Garland', 'Jimmy Shand', 'Gerry & The Pacemakers', 'Britney Spears', 'The Hollies', 'The Eagles', 'The Bee Gees', 'Kylie Minogue', 'Brenda Lee', 'Buddy Holly', 'Alice Cooper',  'Chuck Berry', 'The Jackson 5', 'Showaddywaddy', 'Ub40', 'Go West', 'Bucks Fizz', 'Brotherhood Of Man', 'Dusty Springfield', 'Tremeloes', 'Bon Jovi', 'Willie Nelson', 'Diana Ross & The Supremes', 'Doctor Hook', 'The Who', 'Stevie Wonder', 'The Beach Boys', 'Billy Joel', 'Gene Vincent', 'Connie Francis', 'Neil Sedaka', 'Nat King Cole', 'Runrig', 'Doris Day', 'The Nolans', 'Simply Red', 'Katie Melua', 'Eva Cassidy', 'Procol Harum', 'Love Affair', 'The Mindbenders', 'Yardbirds', 'The Animals', 'The Troggs', 'Cilla Black', 'Paul Carrack', 'Edison Lighthouse', 'Dave Berry', 'Foreigner', 'The Fortunes', 'Vanity Fair', 'Bread | Band', 'Matt Monro', 'Barbara Dickson', 'Janet Jackson', 'Mud', 'Small Faces', 'The Kinks', 'Kenny Ball', 'Lonnie Donegan', 'Eddie Cochran', 'Rainbow', 'Thin Lizzy', 'Tony Bennett', 'Lisa Stansfield', 'Tony Christie', 'Abc', 'Billy Ocean', 'Three Degrees', 'Alison Moyet', 'Rockabilly', 'Odyssey', 'Belinda Carlisle', 'Gloria Gaynor', 'Chicago (The Band)', 'The Moody Blues', 'Beverley Knight', 'Daryl Hall & John Oates', 'Earth, Wind & Fire', 'Bill Haley', 'Nancy Sinatra', 'Average White Band', 'Dr Feelgood', 'Andy Stewart',  'Blues Brothers', 'Dionne Warwick', 'Don Mclean', 'Texas', 'Jerry Lee Lewis', 'Randy Crawford', 'Tammy Wynette', 'Crystal Gayle', 'Kiki Dee', 'Gerry Rafferty', 'Anastacia', 'Elaine Paige', 'Natalie Cole', 'Kim Wilde', 'Marty Wilde', 'Aretha Franklin', 'Barry White', 'Walker Brothers', 'Leo Sayer', 'Olivia Newton John', 'Glen Campbell', 'Blondie', 'Mariah Carey', 'Beyonce', 'Motown Classics', 'Al Johnson', 'Shakin Stevens', 'The Clash', 'Ed Sheeran', 'Aliss', 'Lady Antebellum', 'Chris De Burgh', 'Paul Young',  'Phil Collins', 'Celine Dion', 'Ramones', 'Eurythmics', 'Andre Rieu', 'The Chantells', 'The Thompson Twins', 'Little Mix', 'Justin Timberlake', 'Taylor Swift', 'Rihanna',  'Vengaboys', 'Louis Armstrong', 'The Sensational Alex Harvey Band', 'Randall & Hopkirk (Deceased)', 'House Of Love', 'Little Richard', 'The Osmonds', 'Teenage Wedding', 'Kings Of Leon', 'Jim Diamond', 'Scooter', 'Frank Ifield',  'Elton John', 'Perry Como', 'Ronan Keating', 'The Bachelors', 'Sigala',  'The Allisons', 'Erasure', 'Elvis Presley Uk Fan Club',  'Gbx Anthems', 'The Four Pennies', 'Foo Fighters', 'Stone Roses', 'Lionel Richie', 'Lady Gaga', 'Soft Cell', 'Hue And Cry (2)', 'Bastille', 'Bananarama', 'Hue And Cry', 'Marianne Faithfull', 'Ritchie Valens', 'George Harrison', 'Robbie Wiliams', 'Petula Clark', 'Shaun Mcwhirter', 'Mary Chapin Carpenter', 'Bob Dylan', 'Emil Ford And The Checkmates', 'The Doors', 'Donny Osmond', 'Joe Cocker', 'Billy Fury',  'Backstreet Boys', 'Red Hot Chili Peppers', 'Depeche Mode', 'Ac/Dc', 'Edith Piaf','Bryn Terfel', 'Sam Bailey', 'The Big Bopper', 'Blankety Blank', 'Nicole Scherzinger', 'Blackwatch Pipe Band', 'Charlie Landsborough','Pavarotti', 'Brass Bands', 'Jls', 'Bing Crosby', 'Anthem Lights', 'Andy Williams', 'Lewis', 'Caravaggio', 'Johnny Mathis', 'R.E.M', 'Susan Boyle', 'Simple Minds', 'Marc Almond', 'Phil Wickham', 'Michael Feinstein', 'Diane Krall', 'Sex Pistols', 'The Cure', 'Glee', 'Mumford And Sons', 'Boyz Ii Men', 'Mozart', 'Donna Summer', 'Dolly Parton',  'Johnny Cash', 'Cliff Richard', 'Donna Summer', 'Cliff Richard Official Website', 'George Ezra', 'Pink Floyd', 'Iron Butterfly', 'Spice Girls', 'Shawn Mendes', 'Jason Derulo', 'Nelly', 'Johann Strauss', 'The Wolfe Tones', 'Wham', 'Calamity Jane', 'Genesis', 'Bruce Springsteen', 'Blink 182', 'The Pet Shop Boys', 'A-Ha', 'Holocaust', 'Francie And Josie', 'Teresa Brewer', 'Ella Fitzgerald', 'The Killers', 'Aerosmith', 'Ben Haenow', 'Il Divo', 'Iron Maiden', 'Philomena Begley', 'Tim Mcgraw', \n",
    "                                     'Wet Wet Wet', 'Whitney Houston']),'Type'] = 'Musician'\n",
    "#Actor&Actress: names of actors and actresses.\n",
    "ccdate.loc[ccdate['LinkTitle'].isin(['Dave Allen', 'Red Arrows','Ken Dodd', 'Neil Diamond', 'The Man From Laramie Film', 'Ss',  'Max Bygraves',  'John Wayne', 'Hector Nicol 1', 'Marilyn Monroe', \n",
    "                                     'Harry Seacombe', 'Carrie Underwood']),'Type'] = 'Actor&Actress'\n",
    "#Mail: brands of mail.\n",
    "ccdate.loc[ccdate['LinkTitle'].isin(['Sky Email', 'Gmail', 'Yahoo Mail', 'Daily Mail','mail.Com','Mail.Com','Elvis Presley',\n",
    "                                     'Email', 'Outlook']),'Type'] = 'Mail'\n",
    "#TV: including TV shows, TV series, etc.\n",
    "ccdate.loc[ccdate['LinkTitle'].isin(['Celtic Tv', 'Itv Hub', 'Scotch And Wry', 'Quiz Shows', 'Bonanza', 'Who Wants To Be A Millionaire', 'Stv Web Player', 'The Chase', 'Jewel School','Uktv Gold', 'Wagon Train', 'Top Gear', 'Cnbc', 'Fail Army', 'Mrs Browns Boys Official Website', 'Only Fools & Horses (Funniest Moments)',  'Ready Steady Cook', 'Uktv Play', 'Highway Patrol',  'The Virginian', 'Big Brother', 'The Lone Ranger Tv Series', 'Challenge Tv', 'Ice Road Truckers', 'Ax Men',  'Noughts And Crosses', 'Bullseye', 'Rawhide', 'Classic Eastenders Channel', 'Eastenders',  'National Lottery', 'Hollyoaks Episodes', 'Last Of The Summer Wine', 'Eggheads | Season 18', 'Cbbc', 'Cbeebies', 'Eggheads | Season 20', 'Versailles - History', '80S Tv/Gameshows', 'My 5 (Channel Five Catch-Up)', 'Itv 2', 'Hearts Tv', 'Itv3', 'Crystal Tv', 'Ufo Tv Series', 'Frank Cannon Tv Series', 'Space 1999  Series', 'Series 1', 'Space 1999 Series 2', 'Space 1999 Series 1', 'Season 14 Master Chef Uk', 'Egghead | Season 16', 'Eggheads | Season 17', 'Frankie Valli & The Four Seasons', 'Season 10 Master Chef Professionals', 'Howards Way - Season One', 'Mary, Mungo, & Midge', 'Ironside', 'Taggart Episodes', 'Deal Or No Deal',  'Crime Drama Programs', 'Classic Game Shows', 'Shows', 'Rod Stewart Live- One Night Only', 'Wheeler Dealers', 'Messenger Summer 2017', 'George And Mildred', 'Pointless', 'Dolphin Show',  'Karaoke', 'Nasa Live: Earth From Space', 'Krypton Factor', 'Burnistoun', 'Peppa Pig', 'Dr Quinn', 'Carol Hersee Interview', 'Thomas The Tank Engine', '80S Game Shows', 'This Is Your Life', 'Bad Girls', 'The High Chaparrall', 'Skippy The Kangaroo', 'Take Your Pick', 'Opportunity Knocks', 'X Factor', 'River City', 'Home & Away', \n",
    "                                     'Messiah', 'Discovery Channel']),'Type'] = 'TV'\n",
    "#Travel: including travel recommendation, guide, etc.\n",
    "ccdate.loc[ccdate['LinkTitle'].isin(['Traveline Scotland', 'Visit Scotland (Dundee And Angus)', 'Vision Cruise', 'Walking In Scotland', 'Walking Routes In Scotland', 'Dundee Restaurants Trip Advisor', 'Top Restaurants In Dundee - Tripadvisor', 'Tripadvisor', 'Scottish Castles', 'Pompeii - Explore',  'Spa Breaks (Scotland)', 'Easy Breaks', 'The Butterfly Inn', 'Canal Boat Journeys', 'Dial A Journey (Falkirk And Stirling)',\n",
    "                                     'Edinburgh Restaurants- Trip Advisor']),'Type'] = 'Travel'\n",
    "#Document: including instructions and conditions.\n",
    "ccdate.loc[ccdate['LinkTitle'].isin(['Pressalit Wash Basin Instructions','Mydex Terms And Conditions','Geberit Aquaclean 8000Plus Instructions', 'Remote Control For Blinds Instructions', 'Akuvox It83 Series Indoor Monitor User Manual V3', 'A-Z Guide', 'Hilderbrand Terms & Conditions', 'Rights & Responsibilities Statement', 'Euans Guide - Disabled Access Reviews', 'Sewing Guides', 'Group Learning Days Timetable', 'Dundee Pub Guide', 'Broom Court Menu W/C 30/6/18', 'The Sewing Directory', 'Pressalit Shower Chair Instructions',\n",
    "                                     'Huawei Terms & Conditions']),'Type'] = 'Document'\n",
    "#History: all activities with 'history'\n",
    "ccdate.loc[ccdate['LinkTitle'].isin(['Edinburgh History', 'History Scotland', 'Dundee Local History', 'Scottish History', 'British History', 'Ancient History', 'Omagh Bomb History', 'Medieval History Documentaries', 'French History', 'World History', 'History Channel','Old Edinburgh', \n",
    "                                     'Edinburgh Transport History']),'Type'] = 'History'\n",
    "#Creature: all kinds of animals.\n",
    "ccdate.loc[ccdate['LinkTitle'].isin(['Fish And Sea Creatures', 'Fish Brain', 'Sea Lions', \n",
    "                                     'Tigers', 'Elephants']),'Type'] = 'Creture'\n",
    "#Phone: including 'phone'\n",
    "ccdate.loc[ccdate['LinkTitle'].isin(['Phone']),'LinkType'] = 'Phone'\n",
    "#Html Page: activities with a '.com' suffix.\n",
    "ccdate.loc[ccdate['LinkTitle'].isin(['wwe.Com', 'Hesgoal.Com','Wwe.Com']),'Type'] = 'Html Page'\n",
    "#Gallery: all activities with 'gallery'\n",
    "ccdate.loc[ccdate['LinkTitle'].isin(['Birds Gallery']),'Type'] = 'Gallery'"
   ]
  },
  {
   "cell_type": "code",
   "execution_count": 84,
   "id": "given-rendering",
   "metadata": {},
   "outputs": [],
   "source": [
    "ccdate.loc[ccdate['LinkTitle'].isin(['Quick Link To NHS 24 ','NHS Inform - BSL Translation Videos', 'Healthy Eating (NHS)','Quick Link To NHS 24 ','NHS Greater Glasgow', 'NHS Attend Anywhere test', 'NHS Grampian | Orthepedics','NHS Inform - Coronavirus','NHS Fitness Videos','My Care Team Glasgow - Belses Gardens CH','IPF', 'NHS Inform - Shielding','Semple Finney (GP Practice)','My Care Team ','Dr Datta, Fisken, McGill & Whitehead Practice','Dr KG Hardie & Partners Practice','ALISS','SMILE Leaflet November ','Disability Rights within the UK Government', 'Disability Rights UK']),'Type'] = 'Health&Care'"
   ]
  },
  {
   "cell_type": "code",
   "execution_count": 85,
   "id": "mineral-junction",
   "metadata": {},
   "outputs": [],
   "source": [
    "ccdate.loc[ccdate['LinkTitle'].isin(['Steam Trains UK','UK & Ireland Heritage Rail']),'Type'] = 'Transportation'"
   ]
  },
  {
   "cell_type": "code",
   "execution_count": 86,
   "id": "foreign-india",
   "metadata": {},
   "outputs": [],
   "source": [
    "ccdate.loc[ccdate['LinkTitle'].isin([ 'What can you expect from your care worker?', 'What If You Get ill?','How A Bus is Made','How Much is that Doggie in the Window','How to use Zoom','How a Tanker is made.','How to Stay Safe',  'AskSARA Independent Living','Ways to Pay Your Rent','QR Setup']),'Type'] = 'Help'"
   ]
  },
  {
   "cell_type": "code",
   "execution_count": 87,
   "id": "friendly-release",
   "metadata": {},
   "outputs": [],
   "source": [
    "ccdate.loc[ccdate['LinkTitle'].isin(['Facebook Scottish Association of Guide Dog Owners ']),'Type'] = 'Social Network'"
   ]
  },
  {
   "cell_type": "code",
   "execution_count": 88,
   "id": "treated-barbados",
   "metadata": {},
   "outputs": [],
   "source": [
    "ccdate.loc[ccdate['LinkTitle'].isin(['Bank of Scotland ','bespoken','The SSE Hydro', 'RHS','PDSA Hawkhill','ERI Map']),'Type'] = 'Location'"
   ]
  },
  {
   "cell_type": "code",
   "execution_count": 89,
   "id": "functional-pharmaceutical",
   "metadata": {},
   "outputs": [],
   "source": [
    "ccdate.loc[ccdate['LinkTitle'].isin(['ASDA','eBay','Marks and Spencer','Amazon UK', 'ASDA Volunteer Shopping Card','QVC']),'Type'] = 'Shopping'"
   ]
  },
  {
   "cell_type": "code",
   "execution_count": 90,
   "id": "scenic-retrieval",
   "metadata": {},
   "outputs": [],
   "source": [
    "ccdate.loc[ccdate['LinkTitle'].isin(['domotica devices','STV Web Player','Your Tablet - Turning it on/off and charging', 'SS','Using Your Keyboard and Search','WiFi Password','Saws UK','PPE']),'Type'] = 'Home'"
   ]
  },
  {
   "cell_type": "code",
   "execution_count": 91,
   "id": "quick-compiler",
   "metadata": {},
   "outputs": [],
   "source": [
    "ccdate.loc[ccdate['LinkTitle'].isin(['SMILE Project Information Sheet','SMILE Project Information Video','Gardening information','Inside the International Space Station','z-Wave Network','NASA ','Space and Astronomny','Holocaust ','Falkirk Wheel ']),'Type'] = 'Information'"
   ]
  },
  {
   "cell_type": "code",
   "execution_count": 92,
   "id": "desirable-reconstruction",
   "metadata": {},
   "outputs": [],
   "source": [
    "ccdate.loc[ccdate['LinkTitle'].isin(['Arts and Crafts','Art UK']),'Type'] = 'Art'"
   ]
  },
  {
   "cell_type": "code",
   "execution_count": 93,
   "id": "developed-traffic",
   "metadata": {},
   "outputs": [],
   "source": [
    "ccdate.loc[ccdate['LinkTitle'].isin(['BBC Good Food', 'BBC Food - Recipes', 'Ready Steady Cook ', 'delicious ']),'Type'] = 'Diet'"
   ]
  },
  {
   "cell_type": "code",
   "execution_count": 94,
   "id": "seasonal-prize",
   "metadata": {},
   "outputs": [],
   "source": [
    "ccdate.loc[ccdate['LinkTitle'].isin(['Card Making and Paper Craft']),'Type'] = 'Skill'"
   ]
  },
  {
   "cell_type": "code",
   "execution_count": 95,
   "id": "grave-clerk",
   "metadata": {},
   "outputs": [],
   "source": [
    "ccdate.loc[ccdate['LinkTitle'].isin(['BBC Scotland Weather Forecast','STV Weather Edinburgh']),'Type'] = 'Weather'"
   ]
  },
  {
   "cell_type": "code",
   "execution_count": 96,
   "id": "center-hampton",
   "metadata": {},
   "outputs": [],
   "source": [
    "ccdate.loc[ccdate['LinkTitle'].isin(['Answering a Video Call','Family & Friends - Sending a Video Message','Family & Friends - Sending a Text Message']),'Type'] = 'Family&Friend'"
   ]
  },
  {
   "cell_type": "code",
   "execution_count": 97,
   "id": "generic-education",
   "metadata": {},
   "outputs": [],
   "source": [
    "ccdate.loc[ccdate['LinkTitle'].isin(['The Man from Laramie Film', 'Francie and Josie']),'Type'] = 'Actor&Actress'"
   ]
  },
  {
   "cell_type": "code",
   "execution_count": 98,
   "id": "altered-piano",
   "metadata": {},
   "outputs": [],
   "source": [
    "ccdate.loc[ccdate['LinkTitle'].isin(['Fish and Sea Creatures', 'A-Z of Birds']),'Type'] = 'Creature'"
   ]
  },
  {
   "cell_type": "code",
   "execution_count": 99,
   "id": "quiet-following",
   "metadata": {},
   "outputs": [],
   "source": [
    "ccdate.loc[ccdate['LinkTitle'].isin(['Phone']),'Type'] = 'Phone'"
   ]
  },
  {
   "cell_type": "code",
   "execution_count": 100,
   "id": "fifteen-yemen",
   "metadata": {},
   "outputs": [],
   "source": [
    "ccdate.loc[ccdate['LinkTitle'].isin(['WWE.com', 'hesgoal.com', 'mail.com',]),'Type'] = 'Html Page'"
   ]
  },
  {
   "cell_type": "code",
   "execution_count": 101,
   "id": "advised-conclusion",
   "metadata": {},
   "outputs": [],
   "source": [
    "ccdate.loc[ccdate['LinkTitle'].isin(['McManus Galleries Dundee', 'Kelvingrove Art Gallery and Museum']),'Type'] = 'Gallery'"
   ]
  },
  {
   "cell_type": "code",
   "execution_count": 102,
   "id": "acknowledged-turning",
   "metadata": {},
   "outputs": [],
   "source": [
    "ccdate.loc[ccdate['LinkTitle'].isin(['80s Music Playlist','Songs from Musicals','The Sound of Music - Movie Clips', '70s Music Playlist', 'British TV Theme Tunes','Old TV Theme Tunes', 'Songs from 50s/60s Musicals', 'Soul Music - 80s', 'BBC 2 Test Card', '24/7 Sleep and Relaxation Music', 'ITV Test Card', 'Absolute Radio 70s', 'Golden Oldies | 50s & 60s', 'TV Sitcom Theme Tunes', 'Great Classic Country and Western', 'Ministry of Sound', 'Traditional Music of Ireland', 'bespoken - Drake Music', 'Queen - Love of my life ','Sound of Music Soundtrack', 'SoundCloud','Sounds of Scotland - Bagpipe Music ','Guess the Band Quiz', '80s Hits', 'Euro HIts Vol. 1','Hot Chocolate Playlist ','ZZ Top','80s & 90s | Easy Listening','UKTV Play','Now thats what i call music ', 'ELO Playlist', 'TTF Playlist','90s and 2000s Hits', 'Top of the Pops 1970s', 'Phantom of the Opera Soundtrack','Classic EastEnders Channel','Cliff Richards - Sing Under the Christmas Tree','BBC1 Christmas Jingles 1967 to 2015',  '90s Smash Hits','Live Osprey Camera - Loch of Lowes','Top of the Pops 1980s','BBC2 Logos - 1964 to 2016','Beethoven -  Ode to Joy','ABBA', 'YourClassical','House of Love', 'Kings of Leon','Jeannie C. Riley - Harper Valley PTA','Only Fools and Horses','Raindrops Keep Falling on my Head','Last of The Summer Wine', 'You are the reason','David Gates- Make it With You','Heart of Midlothian song','ABBA Gold','Rocky clips','Walking in the Air']),'Type'] = 'Music'"
   ]
  },
  {
   "cell_type": "code",
   "execution_count": 103,
   "id": "official-glass",
   "metadata": {},
   "outputs": [],
   "source": [
    "ccdate.loc[ccdate['LinkTitle'].isin(['Chas and Dave','Jesus Christ Superstar (musical)','Cats (musical)','Billy Elliot (musical)','Shaun McWhirter','Chicago (the band)', 'Don McLean','Whitney Houston ','Cliff Richard and the Piano Guys', 'Europe [the band]', 'UB40','Brotherhood of Man', 'Tremeloes ','Doris Day ', 'Foster and Allen','Laurel and Hardy', 'Emerson, Lake and Palmer','Cliff Richard: Through the Years','Ed Edd n Eddy','Mozart ','Scotch and Wry','10cc','Paul McCartney','Toby Keith ', 'Chris de Burgh', 'Ax men',  'Eurythmics ', 'Hue and Cry','Boyz II Men','Emil Ford and the Checkmates','AC/DC','JLS', 'Mumford and Sons','Tim McGraw']),'Type'] = 'Musician'"
   ]
  },
  {
   "cell_type": "code",
   "execution_count": 104,
   "id": "packed-investigator",
   "metadata": {},
   "outputs": [],
   "source": [
    "ccdate.loc[ccdate['LinkTitle'].isin(['BBC Football','Celtic FC', 'Rangers UK Supporters Club', 'BBC Sport', 'BBC Sport - Swimming', 'World Cup- BBC Sport', 'BT Sport','Kaizer Cheifs FC', 'Hearts FC', 'Dundee FC', 'Aberdeen FC', 'Stirling Albion fc', 'Hibernian FC', 'Rangers FC', 'MtVernon Bowling Club', 'Elvis Presley UK Fan Club','The Rover SD1 Club', 'BBC Tennis ','MS Society - Exercise','BBC Golf','UFC - Ultimate Fighting Championship','Boccia UK','UEFA Champions League', 'ScotRail','RC Car Action','DARTS','Scottish FA','PDC','Ayr United ']),'Type'] = 'Sports'"
   ]
  },
  {
   "cell_type": "code",
   "execution_count": 105,
   "id": "distant-mouth",
   "metadata": {},
   "outputs": [],
   "source": [
    "ccdate.loc[ccdate['LinkTitle'].isin(['West FM','Classic FM Website', 'Capital FM', 'RNIB Connect Radio','Jazz Radio ','BBC Radio 5','BBC Radio Scotland', 'BBC Formula 1','Absolute Radio 80s','BBC Radio 4 Extra', 'Heart Radio (tablet)',  'TalkSport Radio','BBC Radio 1 ', 'History of Test Cards', 'Test MESSAGES', 'BBC1 Test Card ','test', 'HZ', 'Hue and Cry (2)','My 5 (Channel Five Catch-up)', 'Akuvox IT83 Series Indoor Monitor User Manual V3','Tay FM','ABC','Magic FM','PolishPod', 'GermanPod']),'Type'] = 'Radio'"
   ]
  },
  {
   "cell_type": "code",
   "execution_count": 106,
   "id": "false-longitude",
   "metadata": {},
   "outputs": [],
   "source": [
    "ccdate.loc[ccdate['LinkTitle'].isin(['CleverCogs - New Features','Using Your CleverCogs Calendar', 'CleverCogs End User License Agreement ']),'Type'] = 'CleverCogs'"
   ]
  },
  {
   "cell_type": "code",
   "execution_count": 107,
   "id": "convinced-texture",
   "metadata": {},
   "outputs": [],
   "source": [
    "ccdate.loc[ccdate['LinkTitle'].isin(['ITV Hub', 'UFO TV Series','Celtic TV',  'Red TV | Aberdeen FC', 'Hearts TV', 'ITV3', '80s TV/Gameshows', 'UKTV Gold','Challenge TV', 'Crystal TV', 'ITV 2','Season 14 Master Chef UK','Frankie Valli & the Four Seasons', '80s Game Shows', 'Frank Cannon TV Series','The Lone Ranger TV Series','Space 1999  Series ','Batman and Robin Clips','CBeebies','Skippy the Kangaroo','EastEnders','George and Mildred','Steptoe and Son']),'Type'] = 'TV'"
   ]
  },
  {
   "cell_type": "code",
   "execution_count": 108,
   "id": "similar-silver",
   "metadata": {},
   "outputs": [],
   "source": [
    "ccdate.loc[ccdate['LinkTitle'].isin(['STV News', 'BBC News ', 'BBC iPlayer' , 'BBC Bitesize', 'BBC News - South Africa', 'OK- Celebrity News','Eggheads BBC Website', 'BBC NEWS','RC News','The Mirror - Soaps News ', 'The Huffingtonpost - Soaps News ','BBC News', 'BBC Boxing','CBBC','BBC History: Tudors','BBC Scotlands Robert The Bruce Story', 'BBC Scottish History','BBC History - Ancient Egypt','BBC Rugby','CNN','BBC iPlayer - Nature','BBC Earth', 'BBC Nature','CNBC', 'RC Driver', ]),'Type'] = 'News'"
   ]
  },
  {
   "cell_type": "code",
   "execution_count": 109,
   "id": "caroline-recognition",
   "metadata": {},
   "outputs": [],
   "source": [
    "ccdate.loc[ccdate['LinkTitle'].isin(['Jigsaw puzzle games','Football Games ', 'Guess the Tunes Quiz','Boomerang UK', 'Bubbleshooter for Michael D.', 'Bubble Shooter (IQPC)','Deal or No Deal','YouiDraw Painter', 'Tarot Card Information and Readings']),'Type'] = 'Game'"
   ]
  },
  {
   "cell_type": "code",
   "execution_count": 110,
   "id": "incorporated-benefit",
   "metadata": {},
   "outputs": [],
   "source": [
    "ccdate.loc[ccdate['LinkTitle'].isin(['Dial a Journey (Falkirk and Stirling)','Visit Scotland (Dundee and Angus)','Top Restaurants in Dundee - TripAdvisor','Walking in Scotland','Carmyle, Kenmuir, Mount Vernon, Church of Scotland','Walking Routes in Scotland','Life in Laramie']),'Type'] = 'Travel'"
   ]
  },
  {
   "cell_type": "code",
   "execution_count": 111,
   "id": "younger-season",
   "metadata": {},
   "outputs": [],
   "source": [
    "ccdate.loc[ccdate['LinkTitle'].isin(['TV Choice Magazine', 'Sky at Night Magazine','CS Lewis Audiobooks','Military and War Documentaries','Noughts and Crosses', 'LibriVox','Narrative of a Voyage to Senegal','In The Heart of Africa','Robinson Crusoe ']),'Type'] = 'Reading'"
   ]
  },
  {
   "cell_type": "code",
   "execution_count": 112,
   "id": "vietnamese-batman",
   "metadata": {},
   "outputs": [],
   "source": [
    "ccdate.loc[ccdate['LinkTitle'].isin(['YouTube', 'YouTube LIVE', 'Celtic FC Youtube channel', 'Olly Murs youtube Channel',  'YouTube - James Bond Channel', 'Steps Official You tube', 'Truck driving Vlog','Mr. Robot scene','GBX Anthems','AGM 2016 - The Social Connection','NASA Live: Earth From Space', 'Legally Blonde ','IMDB', 'This is Your Life']),'Type'] = 'Video'"
   ]
  },
  {
   "cell_type": "code",
   "execution_count": 113,
   "id": "valuable-chick",
   "metadata": {},
   "outputs": [],
   "source": [
    "ccdate.loc[ccdate['LinkTitle'].isin(['Mydex Terms and Conditions','Geberit AquaClean 8000plus Instructions','Logic Combi ESP1 Boiler Instructions','A Guide to the Safe Storage of Medication ','Universal Declaration of Human Rights']),'Type'] = 'Document'"
   ]
  },
  {
   "cell_type": "code",
   "execution_count": 114,
   "id": "constant-angola",
   "metadata": {},
   "outputs": [],
   "source": [
    "ccdate.loc[ccdate['LinkTitle'].isin(['COVID-19 Info - Aberdeen Local Links','Remote Control for Blinds Instructions', 'COVID-19 Info - Dundee Local Links']),'Type'] = 'Covid-19'"
   ]
  },
  {
   "cell_type": "code",
   "execution_count": 115,
   "id": "forty-horizontal",
   "metadata": {},
   "outputs": [],
   "source": [
    "ccdate.loc[ccdate['LinkTitle'].isin(['Welcome to Blackwood', 'Blackwood COVID-19 Letter','How to Connect to Blackwood WiFi','Videos from Blackwood',]),'Type'] = 'Blackwood'"
   ]
  },
  {
   "cell_type": "code",
   "execution_count": 116,
   "id": "about-penguin",
   "metadata": {},
   "outputs": [],
   "source": [
    "ccdate.loc[ccdate['LinkTitle'].isin(['Guide Dogs - Glasgow mobility team','Dundee and Angus College', 'Leisure and Culture (Dundee)',]),'Type'] = 'Local Information'"
   ]
  },
  {
   "cell_type": "code",
   "execution_count": 117,
   "id": "differential-scott",
   "metadata": {},
   "outputs": [
    {
     "data": {
      "text/plain": [
       "array([], dtype=object)"
      ]
     },
     "execution_count": 117,
     "metadata": {},
     "output_type": "execute_result"
    }
   ],
   "source": [
    "ccdate['LinkTitle'].loc[ccdate['Type']=='Category'].unique() "
   ]
  }
 ],
 "metadata": {
  "kernelspec": {
   "display_name": "Python 3",
   "language": "python",
   "name": "python3"
  },
  "language_info": {
   "codemirror_mode": {
    "name": "ipython",
    "version": 3
   },
   "file_extension": ".py",
   "mimetype": "text/x-python",
   "name": "python",
   "nbconvert_exporter": "python",
   "pygments_lexer": "ipython3",
   "version": "3.9.2"
  }
 },
 "nbformat": 4,
 "nbformat_minor": 5
}
